{
 "cells": [
  {
   "cell_type": "code",
   "execution_count": 9,
   "id": "752f3a93",
   "metadata": {},
   "outputs": [],
   "source": [
    "import numpy as np\n",
    "import networkx as nx\n",
    "from Games import LQGame\n",
    "import matplotlib.pyplot as plt\n",
    "\n",
    "\n",
    "%reload_ext autoreload\n",
    "%autoreload 2"
   ]
  },
  {
   "cell_type": "code",
   "execution_count": 10,
   "id": "81fc60df",
   "metadata": {},
   "outputs": [],
   "source": [
    "## defien a linear quadratic game\n",
    "seed = 42\n",
    "n = 100\n",
    "G = nx.watts_strogatz_graph(n, 2, 0.1, seed=seed)\n",
    "b_vec = np.random.rand(n)\n",
    "beta_vec = np.random.rand(n)\n",
    "game = LQGame(n, \n",
    "              G, \n",
    "              b_vec=b_vec,\n",
    "              beta_vec=beta_vec)"
   ]
  },
  {
   "cell_type": "code",
   "execution_count": 21,
   "id": "6433604b",
   "metadata": {},
   "outputs": [
    {
     "name": "stdout",
     "output_type": "stream",
     "text": [
      "Iter: 1 | reg: 0.5582976330941068\n",
      "Iter: 2 | reg: 0.5480590242278356\n",
      "Iter: 3 | reg: 0.5379628596896031\n",
      "Iter: 4 | reg: 0.5280031212679159\n",
      "Iter: 5 | reg: 0.5181739684655775\n",
      "Iter: 6 | reg: 0.508469732899214\n",
      "Iter: 7 | reg: 0.4988849128863939\n",
      "Iter: 8 | reg: 0.48941416821375183\n",
      "Iter: 9 | reg: 0.48005231507976476\n",
      "Iter: 10 | reg: 0.46960976873111604\n",
      "Iter: 11 | reg: 0.45912744698402463\n",
      "Iter: 12 | reg: 0.44880002708673117\n",
      "Iter: 13 | reg: 0.43862360294460445\n",
      "Iter: 14 | reg: 0.4285943668402762\n",
      "Iter: 15 | reg: 0.41870860689903755\n",
      "Iter: 16 | reg: 0.4089627046216837\n",
      "Iter: 17 | reg: 0.39935313248296866\n",
      "Iter: 18 | reg: 0.38987645159386686\n",
      "Iter: 19 | reg: 0.38052930942589525\n",
      "Iter: 20 | reg: 0.3713084375883704\n",
      "Iter: 21 | reg: 0.36221064966635563\n",
      "Iter: 22 | reg: 0.35323283912352255\n",
      "Iter: 23 | reg: 0.3443719772604221\n",
      "Iter: 24 | reg: 0.33562511122665173\n",
      "Iter: 25 | reg: 0.32698936208545226\n",
      "Iter: 26 | reg: 0.3184619229293091\n",
      "Iter: 27 | reg: 0.31004005704517335\n",
      "Iter: 28 | reg: 0.3017210961279495\n",
      "Iter: 29 | reg: 0.2935024385409468\n",
      "Iter: 30 | reg: 0.28538154762201307\n",
      "Iter: 31 | reg: 0.27735595003411895\n",
      "Iter: 32 | reg: 0.2710737983036279\n",
      "Iter: 33 | reg: 0.26652814834448224\n",
      "Iter: 34 | reg: 0.26204960079885664\n",
      "Iter: 35 | reg: 0.25763676876937197\n",
      "Iter: 36 | reg: 0.2532882863344091\n",
      "Iter: 37 | reg: 0.2490008878936345\n",
      "Iter: 38 | reg: 0.24477306328982473\n",
      "Iter: 39 | reg: 0.24060367449642373\n",
      "Iter: 40 | reg: 0.23649160756462684\n",
      "Iter: 41 | reg: 0.23243494772624101\n",
      "Iter: 42 | reg: 0.22843232907629785\n",
      "Iter: 43 | reg: 0.22448278243063813\n",
      "Iter: 44 | reg: 0.2205853585112536\n",
      "Iter: 45 | reg: 0.21673912751165514\n",
      "Iter: 46 | reg: 0.21294317867211177\n",
      "Iter: 47 | reg: 0.2091966198645272\n",
      "Iter: 48 | reg: 0.20549857718672726\n",
      "Iter: 49 | reg: 0.2018481945659395\n",
      "Iter: 50 | reg: 0.19824463337124687\n",
      "Iter: 51 | reg: 0.19468707203480629\n",
      "Iter: 52 | reg: 0.19117470568162775\n",
      "Iter: 53 | reg: 0.18770674576771285\n",
      "Iter: 54 | reg: 0.1842824197263565\n",
      "Iter: 55 | reg: 0.18090097062242394\n",
      "Iter: 56 | reg: 0.1775616568144146\n",
      "Iter: 57 | reg: 0.17426375162413021\n",
      "Iter: 58 | reg: 0.17100654301377527\n",
      "Iter: 59 | reg: 0.16778933327030976\n",
      "Iter: 60 | reg: 0.16461143869689132\n",
      "Iter: 61 | reg: 0.16147218931123875\n",
      "Iter: 62 | reg: 0.15837092855075818\n",
      "Iter: 63 | reg: 0.15530701298427274\n",
      "Iter: 64 | reg: 0.15227981203020413\n",
      "Iter: 65 | reg: 0.14928870768105784\n",
      "Iter: 66 | reg: 0.14633309423406304\n",
      "Iter: 67 | reg: 0.14341237802782758\n",
      "Iter: 68 | reg: 0.14052597718486615\n",
      "Iter: 69 | reg: 0.13767332135987054\n",
      "Iter: 70 | reg: 0.13485385149358442\n",
      "Iter: 71 | reg: 0.1320670195721565\n",
      "Iter: 72 | reg: 0.1291190745926919\n",
      "Iter: 73 | reg: 0.1260620570270169\n",
      "Iter: 74 | reg: 0.12305695229022429\n",
      "Iter: 75 | reg: 0.12010276531006436\n",
      "Iter: 76 | reg: 0.11719852149762211\n",
      "Iter: 77 | reg: 0.11434326630581926\n",
      "Iter: 78 | reg: 0.11153606479776523\n",
      "Iter: 79 | reg: 0.10877600122472741\n",
      "Iter: 80 | reg: 0.10606217861350375\n",
      "Iter: 81 | reg: 0.1033937183629785\n",
      "Iter: 82 | reg: 0.10076975984965553\n",
      "Iter: 83 | reg: 0.09818946004195772\n",
      "Iter: 84 | reg: 0.09565199312309869\n",
      "Iter: 85 | reg: 0.09368186983331772\n",
      "Iter: 86 | reg: 0.09202724008377827\n",
      "Iter: 87 | reg: 0.09039484010788679\n",
      "Iter: 88 | reg: 0.08878435726135225\n",
      "Iter: 89 | reg: 0.08719548339385375\n",
      "Iter: 90 | reg: 0.08562791478407206\n",
      "Iter: 91 | reg: 0.08408135207565959\n",
      "Iter: 92 | reg: 0.0825555002141265\n",
      "Iter: 93 | reg: 0.0810500683846348\n",
      "Iter: 94 | reg: 0.07956476995068851\n",
      "Iter: 95 | reg: 0.07809932239370221\n",
      "Iter: 96 | reg: 0.07665344725344247\n",
      "Iter: 97 | reg: 0.07522687006932327\n",
      "Iter: 98 | reg: 0.07381932032254734\n",
      "Iter: 99 | reg: 0.07243053137908073\n",
      "Iter: 100 | reg: 0.07106024043344783\n"
     ]
    }
   ],
   "source": [
    "## gradient-based best response\n",
    "## NOTE: check the function signature for detailed parameters and usages\n",
    "x, rgt_grad = game.grad_BR(maxIter=100, verbose=True)"
   ]
  },
  {
   "cell_type": "code",
   "execution_count": 17,
   "id": "2b7ee082",
   "metadata": {},
   "outputs": [
    {
     "name": "stdout",
     "output_type": "stream",
     "text": [
      "Iter: 0001 | Reg: 0.5304\n",
      "Iter: 0002 | Reg: 0.5304\n",
      "Iter: 0003 | Reg: 0.5304\n"
     ]
    },
    {
     "name": "stderr",
     "output_type": "stream",
     "text": [
      "/Users/yusixie/Dropbox/machine_learning/networked-game-NE/src/Games.py:244: UserWarning: To copy construct from a tensor, it is recommended to use sourceTensor.clone().detach() or sourceTensor.clone().detach().requires_grad_(True), rather than torch.tensor(sourceTensor).\n",
      "  x_tmp = torch.tensor(x, device=DEVICE)\n",
      "/Users/yusixie/Dropbox/machine_learning/networked-game-NE/src/Games.py:246: UserWarning: To copy construct from a tensor, it is recommended to use sourceTensor.clone().detach() or sourceTensor.clone().detach().requires_grad_(True), rather than torch.tensor(sourceTensor).\n",
      "  S_old = torch.tensor(sum([self._player_regret(x, k) for k in cand_idx]), device=DEVICE)\n"
     ]
    },
    {
     "name": "stdout",
     "output_type": "stream",
     "text": [
      "Iter: 0004 | Reg: 0.5304\n",
      "Iter: 0005 | Reg: 0.5304\n",
      "Iter: 0006 | Reg: 0.5304\n",
      "Iter: 0007 | Reg: 0.5304\n",
      "Iter: 0008 | Reg: 0.5304\n",
      "Iter: 0009 | Reg: 0.5304\n",
      "Iter: 0010 | Reg: 0.5304\n",
      "Iter: 0011 | Reg: 0.5304\n",
      "Iter: 0012 | Reg: 0.5304\n",
      "Iter: 0013 | Reg: 0.3354\n",
      "Iter: 0014 | Reg: 0.3354\n",
      "Iter: 0015 | Reg: 0.3562\n",
      "Iter: 0016 | Reg: 0.3354\n",
      "Iter: 0017 | Reg: 0.3354\n",
      "Iter: 0018 | Reg: 0.3354\n",
      "Iter: 0019 | Reg: 0.3354\n",
      "Iter: 0020 | Reg: 0.3354\n",
      "Iter: 0021 | Reg: 0.3354\n",
      "Iter: 0022 | Reg: 0.3354\n",
      "Iter: 0023 | Reg: 0.3354\n",
      "Iter: 0024 | Reg: 0.3354\n",
      "Iter: 0025 | Reg: 0.3354\n",
      "Iter: 0026 | Reg: 0.3354\n",
      "Iter: 0027 | Reg: 0.3354\n",
      "Iter: 0028 | Reg: 0.3354\n",
      "Iter: 0029 | Reg: 0.2267\n",
      "Iter: 0030 | Reg: 0.2267\n",
      "Iter: 0031 | Reg: 0.2267\n",
      "Iter: 0032 | Reg: 0.2267\n",
      "Iter: 0033 | Reg: 0.2267\n",
      "Iter: 0034 | Reg: 0.2267\n",
      "Iter: 0035 | Reg: 0.2267\n",
      "Iter: 0036 | Reg: 0.2267\n",
      "Iter: 0037 | Reg: 0.2267\n",
      "Iter: 0038 | Reg: 0.2267\n",
      "Iter: 0039 | Reg: 0.2267\n",
      "Iter: 0040 | Reg: 0.2267\n",
      "Iter: 0041 | Reg: 0.2267\n",
      "Iter: 0042 | Reg: 0.2053\n",
      "Iter: 0043 | Reg: 0.2053\n",
      "Iter: 0044 | Reg: 0.2053\n",
      "Iter: 0045 | Reg: 0.2053\n",
      "Iter: 0046 | Reg: 0.2053\n",
      "Iter: 0047 | Reg: 0.2053\n",
      "Iter: 0048 | Reg: 0.2053\n",
      "Iter: 0049 | Reg: 0.2053\n",
      "Iter: 0050 | Reg: 0.2053\n",
      "Iter: 0051 | Reg: 0.2053\n",
      "Iter: 0052 | Reg: 0.2053\n",
      "Iter: 0053 | Reg: 0.2053\n",
      "Iter: 0054 | Reg: 0.2053\n",
      "Iter: 0055 | Reg: 0.2053\n",
      "Iter: 0056 | Reg: 0.2053\n",
      "Iter: 0057 | Reg: 0.2053\n",
      "Iter: 0058 | Reg: 0.2053\n",
      "Iter: 0059 | Reg: 0.2053\n",
      "Iter: 0060 | Reg: 0.2053\n",
      "Iter: 0061 | Reg: 0.2053\n",
      "Iter: 0062 | Reg: 0.2088\n",
      "Iter: 0063 | Reg: 0.2088\n",
      "Iter: 0064 | Reg: 0.2088\n",
      "Iter: 0065 | Reg: 0.2088\n",
      "Iter: 0066 | Reg: 0.2088\n",
      "Iter: 0067 | Reg: 0.2088\n",
      "Iter: 0068 | Reg: 0.2088\n",
      "Iter: 0069 | Reg: 0.2088\n",
      "Iter: 0070 | Reg: 0.2088\n",
      "Iter: 0071 | Reg: 0.2088\n",
      "Iter: 0072 | Reg: 0.2088\n",
      "Iter: 0073 | Reg: 0.2088\n",
      "Iter: 0074 | Reg: 0.2088\n",
      "Iter: 0075 | Reg: 0.2088\n",
      "Iter: 0076 | Reg: 0.2088\n",
      "Iter: 0077 | Reg: 0.2088\n",
      "Iter: 0078 | Reg: 0.2088\n",
      "Iter: 0079 | Reg: 0.2088\n",
      "Iter: 0080 | Reg: 0.2088\n",
      "Iter: 0081 | Reg: 0.2088\n",
      "Iter: 0082 | Reg: 0.2088\n",
      "Iter: 0083 | Reg: 0.2088\n",
      "Iter: 0084 | Reg: 0.2182\n",
      "Iter: 0085 | Reg: 0.2182\n",
      "Iter: 0086 | Reg: 0.2182\n",
      "Iter: 0087 | Reg: 0.2182\n",
      "Iter: 0088 | Reg: 0.2182\n",
      "Iter: 0089 | Reg: 0.2182\n",
      "Iter: 0090 | Reg: 0.2182\n",
      "Iter: 0091 | Reg: 0.2182\n",
      "Iter: 0092 | Reg: 0.2182\n",
      "Iter: 0093 | Reg: 0.2182\n",
      "Iter: 0094 | Reg: 0.2182\n",
      "Iter: 0095 | Reg: 0.2182\n",
      "Iter: 0096 | Reg: 0.2182\n",
      "Iter: 0097 | Reg: 0.2182\n",
      "Iter: 0098 | Reg: 0.2182\n",
      "Iter: 0099 | Reg: 0.2182\n",
      "Iter: 0100 | Reg: 0.2182\n"
     ]
    }
   ],
   "source": [
    "## VK algorithm\n",
    "## NOTE: check the function signature for detailed parameters and usages\n",
    "x, rgt_VK = game.min_regret_VK(maxIter=100)"
   ]
  },
  {
   "cell_type": "code",
   "execution_count": 25,
   "id": "d8ae2c35",
   "metadata": {},
   "outputs": [
    {
     "data": {
      "text/plain": [
       "<matplotlib.legend.Legend at 0x7fcdba7ba610>"
      ]
     },
     "execution_count": 25,
     "metadata": {},
     "output_type": "execute_result"
    },
    {
     "data": {
      "image/png": "[encoded data removed]",
      "text/plain": [
       "<Figure size 432x288 with 1 Axes>"
      ]
     },
     "metadata": {
      "needs_background": "light"
     },
     "output_type": "display_data"
    }
   ],
   "source": [
    "## visualize the regrets\n",
    "plt.plot(rgt_grad, label='grad')\n",
    "plt.plot(rgt_VK, label='VK')\n",
    "plt.xlabel('iterations')\n",
    "plt.ylabel('regrets')\n",
    "plt.legend()"
   ]
  },
  {
   "cell_type": "code",
   "execution_count": null,
   "id": "a38d5dac",
   "metadata": {},
   "outputs": [],
   "source": []
  },
  {
   "cell_type": "code",
   "execution_count": null,
   "id": "72ca0fe7",
   "metadata": {},
   "outputs": [],
   "source": []
  }
 ],
 "metadata": {
  "kernelspec": {
   "display_name": "Python 3 (ipykernel)",
   "language": "python",
   "name": "python3"
  },
  "language_info": {
   "codemirror_mode": {
    "name": "ipython",
    "version": 3
   },
   "file_extension": ".py",
   "mimetype": "text/x-python",
   "name": "python",
   "nbconvert_exporter": "python",
   "pygments_lexer": "ipython3",
   "version": "3.8.12"
  }
 },
 "nbformat": 4,
 "nbformat_minor": 5
}
